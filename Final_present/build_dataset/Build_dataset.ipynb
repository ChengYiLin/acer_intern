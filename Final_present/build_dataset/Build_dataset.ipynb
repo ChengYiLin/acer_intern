{
 "cells": [
  {
   "cell_type": "markdown",
   "metadata": {},
   "source": [
    "# <font color='dark'>Split the Dataset</font>"
   ]
  },
  {
   "cell_type": "code",
   "execution_count": 15,
   "metadata": {},
   "outputs": [],
   "source": [
    "from model import config\n",
    "import pandas as pd\n",
    "import os\n",
    "import glob\n",
    "import random\n",
    "from shutil import copyfile"
   ]
  },
  {
   "cell_type": "markdown",
   "metadata": {},
   "source": [
    "## Define the ratio of testing data and validation data"
   ]
  },
  {
   "cell_type": "code",
   "execution_count": 16,
   "metadata": {},
   "outputs": [],
   "source": [
    "test_split=0.1\n",
    "validation_split=0.1"
   ]
  },
  {
   "cell_type": "markdown",
   "metadata": {},
   "source": [
    "## Read the raw label"
   ]
  },
  {
   "cell_type": "code",
   "execution_count": 17,
   "metadata": {},
   "outputs": [],
   "source": [
    "def read_concat_data(data_path):\n",
    "    data = pd.DataFrame(columns=[\"File\",\"Type\"])\n",
    "    for source in data_path:\n",
    "        temp = pd.read_csv(source,names=[\"File\",\"Type\"],header=None)\n",
    "        data = pd.concat([data,temp])\n",
    "    data.reset_index(drop=True, inplace=True)\n",
    "    return data"
   ]
  },
  {
   "cell_type": "code",
   "execution_count": 18,
   "metadata": {},
   "outputs": [
    {
     "data": {
      "text/plain": [
       "'/home/acerintern/Desktop/final_present/0_label/dr_train_0_new.csv'"
      ]
     },
     "execution_count": 18,
     "metadata": {},
     "output_type": "execute_result"
    }
   ],
   "source": [
    " os.path.sep.join([ config.Label_path, \"dr_train_0_new.csv\" ])"
   ]
  },
  {
   "cell_type": "code",
   "execution_count": 19,
   "metadata": {},
   "outputs": [],
   "source": [
    "data_name = [\"dr_train_0_new.csv\",\"dr_val_0_new.csv\", \"dr_train_1_new.csv\", \"dr_val_1_new.csv\"]\n",
    "data_path = [ os.path.sep.join([ config.Label_path, i ]) for i in data_name]\n",
    "\n",
    "data = read_concat_data(data_path)"
   ]
  },
  {
   "cell_type": "code",
   "execution_count": 20,
   "metadata": {},
   "outputs": [
    {
     "name": "stdout",
     "output_type": "stream",
     "text": [
      "The Length of Type 1 :  559\n",
      "The Length of Type 0 :  3804\n"
     ]
    }
   ],
   "source": [
    "data_0 = data[data.Type==0][\"File\"]\n",
    "data_1 = data[data.Type==1][\"File\"]\n",
    "\n",
    "print(\"The Length of Type 1 : \",len(data_0))\n",
    "print(\"The Length of Type 0 : \",len(data_1))"
   ]
  },
  {
   "cell_type": "code",
   "execution_count": 21,
   "metadata": {},
   "outputs": [],
   "source": [
    "data_0 = [os.path.sep.join([config.Original_path,i]) for i in data_0]\n",
    "data_1 = [os.path.sep.join([config.Original_path,i]) for i in data_1]"
   ]
  },
  {
   "cell_type": "code",
   "execution_count": 22,
   "metadata": {},
   "outputs": [],
   "source": [
    "# Define the number of data\n",
    "\n",
    "val_0_num = round(len(data_0)*validation_split)\n",
    "val_1_num = round(len(data_1)*validation_split)\n",
    "\n",
    "test_0_num = round(len(data_0)*test_split)\n",
    "test_1_num = round(len(data_1)*test_split)\n",
    "\n",
    "train_0_num = len(data_0) - val_0_num - test_0_num\n",
    "train_1_num = len(data_1) - val_1_num - test_1_num\n",
    "\n",
    "# Split the validation , test and train data\n",
    "\n",
    "val_0_data = data_0[:val_0_num]\n",
    "test_0_data = data_0[val_0_num:-train_0_num]\n",
    "train_0_data = data_0[-train_0_num:]\n",
    "\n",
    "val_1_data = data_1[:val_1_num]\n",
    "test_1_data = data_1[val_1_num:-train_1_num]\n",
    "train_1_data = data_1[-train_1_num:]"
   ]
  },
  {
   "cell_type": "markdown",
   "metadata": {},
   "source": [
    "## Split the data"
   ]
  },
  {
   "cell_type": "code",
   "execution_count": 23,
   "metadata": {},
   "outputs": [],
   "source": [
    "def copy_data(data,using,data_type):\n",
    "    label_path = os.path.sep.join([config.Base_path,using,data_type])\n",
    "    \n",
    "    for file in data:\n",
    "        file_name = file.split(os.path.sep)[-1]\n",
    "        destination = os.path.sep.join([label_path,file_name])\n",
    "    \n",
    "        copyfile(file,destination)"
   ]
  },
  {
   "cell_type": "code",
   "execution_count": 24,
   "metadata": {},
   "outputs": [],
   "source": [
    "copy_data(val_0_data,\"validation\",\"data_0\")\n",
    "copy_data(val_1_data,\"validation\",\"data_1\")\n",
    "copy_data(test_0_data,\"test\",\"data_0\")\n",
    "copy_data(test_1_data,\"test\",\"data_1\")\n",
    "copy_data(train_0_data,\"train\",\"data_0\")\n",
    "copy_data(train_1_data,\"train\",\"data_1\")"
   ]
  },
  {
   "cell_type": "code",
   "execution_count": 26,
   "metadata": {},
   "outputs": [
    {
     "name": "stdout",
     "output_type": "stream",
     "text": [
      "the train data label 0 : 447\n",
      "the train data label 1 : 3044\n",
      "the test data label 0 : 56\n",
      "the test data label 1 : 380\n",
      "the validation data label 0 : 56\n",
      "the validation data label 1 : 380\n"
     ]
    }
   ],
   "source": [
    "print(\"the train data label 0 :\",len(train_0_data))\n",
    "print(\"the train data label 1 :\",len(train_1_data))\n",
    "print(\"the test data label 0 :\",len(test_0_data))\n",
    "print(\"the test data label 1 :\",len(test_1_data))\n",
    "print(\"the validation data label 0 :\",len(val_0_data))\n",
    "print(\"the validation data label 1 :\",len(val_1_data))"
   ]
  },
  {
   "cell_type": "code",
   "execution_count": null,
   "metadata": {},
   "outputs": [],
   "source": []
  }
 ],
 "metadata": {
  "kernelspec": {
   "display_name": "Python 3",
   "language": "python",
   "name": "python3"
  },
  "language_info": {
   "codemirror_mode": {
    "name": "ipython",
    "version": 3
   },
   "file_extension": ".py",
   "mimetype": "text/x-python",
   "name": "python",
   "nbconvert_exporter": "python",
   "pygments_lexer": "ipython3",
   "version": "3.7.3"
  }
 },
 "nbformat": 4,
 "nbformat_minor": 4
}
